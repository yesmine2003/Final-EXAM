{
 "cells": [
  {
   "cell_type": "code",
   "execution_count": 3,
   "id": "39c38d5d-3ee8-4a29-9679-14de8fedad3a",
   "metadata": {},
   "outputs": [
    {
     "name": "stdout",
     "output_type": "stream",
     "text": [
      "The square of 1 is 1\n",
      "The square of 2 is 4\n",
      "The square of 3 is 9\n",
      "The square of 4 is 16\n",
      "The square of 5 is 25\n",
      "The square of 6 is 36\n",
      "The square of 7 is 49\n",
      "The square of 8 is 64\n",
      "The square of 9 is 81\n",
      "The square of 10 is 100\n"
     ]
    }
   ],
   "source": [
    "# Task 1: I'm using a for loop to print squares of numbers from 1 to 10\n",
    "\n",
    "for number in range(1, 11):\n",
    "    # Printing the number and its square\n",
    "    print(f\"The square of {number} is {number ** 2}\")"
   ]
  },
  {
   "cell_type": "code",
   "execution_count": 5,
   "id": "fb7ac30d-afec-422a-9830-a788d6ebf110",
   "metadata": {},
   "outputs": [],
   "source": [
    "# Task 2: Writing a function to check each grade and print 'Pass' if it's 75 or above\n",
    "\n",
    "def check_grades(grade_list):\n",
    "    for score in grade_list:\n",
    "        # Checking if the grade is a passing one\n",
    "        if score >= 75:\n",
    "            print(f\"{score}: Pass\")\n",
    "        else:\n",
    "            print(f\"{score}: No\")"
   ]
  },
  {
   "cell_type": "code",
   "execution_count": 9,
   "id": "5ec36ab7-7255-4826-bc0a-93ffa4725166",
   "metadata": {},
   "outputs": [
    {
     "name": "stdout",
     "output_type": "stream",
     "text": [
      "88: Pass\n",
      "74: No\n",
      "90: Pass\n",
      "61: No\n",
      "75: Pass\n"
     ]
    }
   ],
   "source": [
    "# Testing the function \n",
    "student_scores = [88, 74, 90, 61, 75]\n",
    "check_grades(student_scores)"
   ]
  },
  {
   "cell_type": "code",
   "execution_count": 11,
   "id": "f888cd0a-09af-4852-a968-711b6e5106af",
   "metadata": {},
   "outputs": [],
   "source": [
    "# Task 3: I count the vowels in a sentence\n",
    "\n",
    "def count_vowels(input_text):\n",
    "    all_vowels = \"aeiou\"            # I use these vowels only\n",
    "    input_text = input_text.lower() # I convert to lowercase\n",
    "    total = 0                       # I start total at 0\n",
    "    result = {}                     # I save each vowel's count here\n",
    "\n",
    "    for v in all_vowels:\n",
    "        count = input_text.count(v) # I count how many times the vowel appears\n",
    "        result[v] = count           # I store the count in the dictionary\n",
    "        total += count              # I add it to the total\n",
    "\n",
    "    print(\"Total number of vowels:\", total)  # I show total vowels\n",
    "\n",
    "    for letter, number in result.items():\n",
    "        print(letter + \":\", number)          # I show count for each vowel"
   ]
  },
  {
   "cell_type": "code",
   "execution_count": 15,
   "id": "4cfb20a0-cc2f-46b3-beb4-ac6a5cb5fe91",
   "metadata": {},
   "outputs": [
    {
     "name": "stdout",
     "output_type": "stream",
     "text": [
      "Total number of vowels: 10\n",
      "a: 3\n",
      "e: 3\n",
      "i: 4\n",
      "o: 0\n",
      "u: 0\n"
     ]
    }
   ],
   "source": [
    "# I test with this sentence\n",
    "sentense = \"Lies, damned lies, and statistics.\"\n",
    "count_vowels(sentense)"
   ]
  },
  {
   "cell_type": "code",
   "execution_count": 21,
   "id": "2430e02c-1b70-4235-9f81-a42b3d6379e2",
   "metadata": {},
   "outputs": [
    {
     "name": "stdin",
     "output_type": "stream",
     "text": [
      "Enter a number. To stop enter'done'. 22\n",
      "Enter a number. To stop enter'done'. 44\n",
      "Enter a number. To stop enter'done'. 26\n",
      "Enter a number. To stop enter'done'. 20\n",
      "Enter a number. To stop enter'done'. done\n"
     ]
    },
    {
     "name": "stdout",
     "output_type": "stream",
     "text": [
      "The total number of values entered: 4\n",
      "The Average of the numbers: 28.0\n"
     ]
    }
   ],
   "source": [
    "# Task 4: I want to ask the user to enter numbers\n",
    "# until they type \"done\"\n",
    "# Then I show how many numbers they entered and the average\n",
    "\n",
    "numbers = []  # I keep the numbers here\n",
    "\n",
    "while True:\n",
    "    entry = input(\"Enter a number. To stop enter'done'.\")  # I ask for input\n",
    "\n",
    "    if entry.lower() == 'done':  # If user types done, I stop\n",
    "        break\n",
    "\n",
    "    if entry == \"\":  # If input is empty, I say it's invalid\n",
    "        print(\"Invalid input. TRY AGAIN !\")\n",
    "        continue\n",
    "\n",
    "    # Now I try to turn the entry into a number\n",
    "    try:\n",
    "        num = float(entry)  # I convert input to number\n",
    "        numbers.append(num)  # I add it to my list\n",
    "    except:\n",
    "        print(\"Invalid input. TRY AGAIN !\")  # If not a number, I tell user\n",
    "\n",
    "# After the loop ends, I check if I have numbers\n",
    "if len(numbers) > 0:\n",
    "    total = len(numbers)  # I count how many numbers I got\n",
    "    avg = round(sum(numbers) / total, 2)  # I calculate the average rounded to 2 decimals\n",
    "    print(\"The total number of values entered:\", total)\n",
    "    print(\"The Average of the numbers:\", avg)\n",
    "else:\n",
    "    print(\"No valid numbers!!!\")  # If no numbers, I warn the user"
   ]
  },
  {
   "cell_type": "code",
   "execution_count": 23,
   "id": "f691c341-bbe9-440a-904e-76c6a9d36fbb",
   "metadata": {},
   "outputs": [
    {
     "name": "stdout",
     "output_type": "stream",
     "text": [
      "Alice spent $170\n",
      "Bob spent $100\n",
      "Clara spent $200\n"
     ]
    }
   ],
   "source": [
    "# Task 5: I want to add up how much each customer spent\n",
    "# from a list of purchases.\n",
    "\n",
    "purchases = [(\"Alice\", 120), (\"Bob\", 80), (\"Alice\", 50), (\"Bob\", 20), (\"Clara\", 200)]\n",
    "\n",
    "totals = {}  # I will store the total spent per customer here\n",
    "\n",
    "for name, amount in purchases:\n",
    "    # If I already have this customer, I add the amount\n",
    "    if name in totals:\n",
    "        totals[name] += amount\n",
    "    else:\n",
    "        # If not, I create a new entry for this customer\n",
    "        totals[name] = amount\n",
    "\n",
    "# I print how much each customer spent in total\n",
    "for customer, total_amount in totals.items():\n",
    "    print(f\"{customer} spent ${total_amount}\")"
   ]
  },
  {
   "cell_type": "code",
   "execution_count": 31,
   "id": "6234d2ad-2b26-4c78-9662-b8c290808f42",
   "metadata": {},
   "outputs": [
    {
     "name": "stdout",
     "output_type": "stream",
     "text": [
      "Collecting wbdata\n",
      "  Downloading wbdata-1.0.0-py3-none-any.whl.metadata (2.6 kB)\n",
      "Requirement already satisfied: appdirs<2.0,>=1.4 in c:\\users\\yesmi\\anaconda3\\lib\\site-packages (from wbdata) (1.4.4)\n",
      "Collecting backoff<3.0.0,>=2.2.1 (from wbdata)\n",
      "  Downloading backoff-2.2.1-py3-none-any.whl.metadata (14 kB)\n",
      "Requirement already satisfied: cachetools<6.0.0,>=5.3.2 in c:\\users\\yesmi\\anaconda3\\lib\\site-packages (from wbdata) (5.3.3)\n",
      "Collecting dateparser<2.0.0,>=1.2.0 (from wbdata)\n",
      "  Downloading dateparser-1.2.2-py3-none-any.whl.metadata (29 kB)\n",
      "Requirement already satisfied: decorator<6.0.0,>=5.1.1 in c:\\users\\yesmi\\anaconda3\\lib\\site-packages (from wbdata) (5.1.1)\n",
      "Requirement already satisfied: requests<3.0,>=2.0 in c:\\users\\yesmi\\anaconda3\\lib\\site-packages (from wbdata) (2.32.3)\n",
      "Collecting shelved-cache<0.4.0,>=0.3.1 (from wbdata)\n",
      "  Downloading shelved_cache-0.3.1-py3-none-any.whl.metadata (4.7 kB)\n",
      "Collecting tabulate<0.9.0,>=0.8.5 (from wbdata)\n",
      "  Downloading tabulate-0.8.10-py3-none-any.whl.metadata (25 kB)\n",
      "Requirement already satisfied: python-dateutil>=2.7.0 in c:\\users\\yesmi\\anaconda3\\lib\\site-packages (from dateparser<2.0.0,>=1.2.0->wbdata) (2.9.0.post0)\n",
      "Collecting pytz>=2024.2 (from dateparser<2.0.0,>=1.2.0->wbdata)\n",
      "  Downloading pytz-2025.2-py2.py3-none-any.whl.metadata (22 kB)\n",
      "Requirement already satisfied: regex>=2024.9.11 in c:\\users\\yesmi\\anaconda3\\lib\\site-packages (from dateparser<2.0.0,>=1.2.0->wbdata) (2024.9.11)\n",
      "Collecting tzlocal>=0.2 (from dateparser<2.0.0,>=1.2.0->wbdata)\n",
      "  Downloading tzlocal-5.3.1-py3-none-any.whl.metadata (7.6 kB)\n",
      "Requirement already satisfied: charset-normalizer<4,>=2 in c:\\users\\yesmi\\anaconda3\\lib\\site-packages (from requests<3.0,>=2.0->wbdata) (3.3.2)\n",
      "Requirement already satisfied: idna<4,>=2.5 in c:\\users\\yesmi\\anaconda3\\lib\\site-packages (from requests<3.0,>=2.0->wbdata) (3.7)\n",
      "Requirement already satisfied: urllib3<3,>=1.21.1 in c:\\users\\yesmi\\anaconda3\\lib\\site-packages (from requests<3.0,>=2.0->wbdata) (2.2.3)\n",
      "Requirement already satisfied: certifi>=2017.4.17 in c:\\users\\yesmi\\anaconda3\\lib\\site-packages (from requests<3.0,>=2.0->wbdata) (2024.8.30)\n",
      "Requirement already satisfied: six>=1.5 in c:\\users\\yesmi\\anaconda3\\lib\\site-packages (from python-dateutil>=2.7.0->dateparser<2.0.0,>=1.2.0->wbdata) (1.16.0)\n",
      "Requirement already satisfied: tzdata in c:\\users\\yesmi\\anaconda3\\lib\\site-packages (from tzlocal>=0.2->dateparser<2.0.0,>=1.2.0->wbdata) (2023.3)\n",
      "Downloading wbdata-1.0.0-py3-none-any.whl (18 kB)\n",
      "Downloading backoff-2.2.1-py3-none-any.whl (15 kB)\n",
      "Downloading dateparser-1.2.2-py3-none-any.whl (315 kB)\n",
      "Downloading shelved_cache-0.3.1-py3-none-any.whl (7.8 kB)\n",
      "Downloading tabulate-0.8.10-py3-none-any.whl (29 kB)\n",
      "Downloading pytz-2025.2-py2.py3-none-any.whl (509 kB)\n",
      "Downloading tzlocal-5.3.1-py3-none-any.whl (18 kB)\n",
      "Installing collected packages: pytz, tzlocal, tabulate, shelved-cache, backoff, dateparser, wbdata\n",
      "  Attempting uninstall: pytz\n",
      "    Found existing installation: pytz 2024.1\n",
      "    Uninstalling pytz-2024.1:\n",
      "      Successfully uninstalled pytz-2024.1\n",
      "  Attempting uninstall: tabulate\n",
      "    Found existing installation: tabulate 0.9.0\n",
      "    Uninstalling tabulate-0.9.0:\n",
      "      Successfully uninstalled tabulate-0.9.0\n",
      "Successfully installed backoff-2.2.1 dateparser-1.2.2 pytz-2025.2 shelved-cache-0.3.1 tabulate-0.8.10 tzlocal-5.3.1 wbdata-1.0.0\n"
     ]
    }
   ],
   "source": [
    "!pip install wbdata"
   ]
  },
  {
   "cell_type": "code",
   "execution_count": 49,
   "id": "2f347f7e-a573-4c23-8bef-ccf20b18f135",
   "metadata": {},
   "outputs": [],
   "source": [
    "# Task 6:Get the population data for ITALY \n",
    "import wbdata\n",
    "import datetime"
   ]
  },
  {
   "cell_type": "code",
   "execution_count": 51,
   "id": "f187e268-ac55-4d65-b70e-5e4cd7bdccc7",
   "metadata": {},
   "outputs": [
    {
     "name": "stdout",
     "output_type": "stream",
     "text": [
      "Italy - 2020: 59438851\n",
      "Italy - 2019: 59729081\n",
      "Italy - 2018: 60148658\n",
      "Italy - 2017: 60002252\n",
      "Italy - 2016: 60115223\n",
      "Italy - 2015: 60229605\n",
      "Italy - 2014: 60320707\n",
      "Italy - 2013: 60311613\n",
      "Italy - 2012: 60191247\n",
      "Italy - 2011: 60026841\n",
      "Italy - 2010: 59819407\n"
     ]
    }
   ],
   "source": [
    "import wbdata\n",
    "import datetime\n",
    "\n",
    "# I set the range from 2010 to 2020\n",
    "start = datetime.datetime(2010, 1, 1)\n",
    "end = datetime.datetime(2020, 12, 31)\n",
    "\n",
    "# I choose the population indicator\n",
    "indicator = 'SP.POP.TOTL'\n",
    "\n",
    "# I get population data for Italy between 2010 and 2020\n",
    "data = wbdata.get_data(indicator, 'ITA', (start, end))\n",
    "\n",
    "# I show country, year, and population\n",
    "for entry in data:\n",
    "    country = entry['country']['value']\n",
    "    year = entry['date']\n",
    "    population = entry['value']\n",
    "    print(f\"{country} - {year}: {population}\")"
   ]
  },
  {
   "cell_type": "code",
   "execution_count": null,
   "id": "1daa36eb-7d76-4428-9c85-6450193d36f9",
   "metadata": {},
   "outputs": [],
   "source": []
  }
 ],
 "metadata": {
  "kernelspec": {
   "display_name": "Python 3 (ipykernel)",
   "language": "python",
   "name": "python3"
  },
  "language_info": {
   "codemirror_mode": {
    "name": "ipython",
    "version": 3
   },
   "file_extension": ".py",
   "mimetype": "text/x-python",
   "name": "python",
   "nbconvert_exporter": "python",
   "pygments_lexer": "ipython3",
   "version": "3.12.7"
  }
 },
 "nbformat": 4,
 "nbformat_minor": 5
}
